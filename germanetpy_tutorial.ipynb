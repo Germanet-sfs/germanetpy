{
 "cells": [
  {
   "cell_type": "markdown",
   "metadata": {
    "pycharm": {
     "metadata": false,
     "name": "#%% md\n"
    }
   },
   "source": [
    "# PyGermanet Tutorial\n",
    "\n",
    "The following tutorial shows some examples of how to use the Python API for Germanet. Germanet is a lexical-sematic \n",
    "net that relates German nouns, verbs and adjectives semantically by grouping lexical units that express\n",
    "the same concept into synsets. \n",
    "\n",
    "With the Python API we can extract synsets and lexical units for a given word and inspect different properties and related\n",
    "synsets / lexunits. To use the API you can install it with pip:\n",
    "\n"
   ]
  },
  {
   "cell_type": "code",
   "execution_count": 4,
   "metadata": {
    "pycharm": {
     "is_executing": false
    }
   },
   "outputs": [
    {
     "name": "stdout",
     "output_type": "stream",
     "text": [
      "Collecting germanetpy\n",
      "\u001b[?25l  Downloading https://files.pythonhosted.org/packages/12/16/d17862422eae401706fc31b0f5eb3d45d18bef211a3b284167c18cd24935/germanetpy-0.2.1-py3-none-any.whl (54kB)\n",
      "\u001b[K     |████████████████████████████████| 61kB 1.1MB/s eta 0:00:01\n",
      "\u001b[?25hRequirement already satisfied, skipping upgrade: lxml>=4.4.2 in /usr/local/anaconda3/lib/python3.7/site-packages (from germanetpy) (4.5.0)\n",
      "Requirement already satisfied, skipping upgrade: fastenum>=0.0.1 in /usr/local/anaconda3/lib/python3.7/site-packages (from germanetpy) (0.0.1)\n",
      "Requirement already satisfied, skipping upgrade: tqdm>=4.14 in /usr/local/anaconda3/lib/python3.7/site-packages (from germanetpy) (4.36.1)\n",
      "Requirement already satisfied, skipping upgrade: pytest>=5.3.2 in /usr/local/anaconda3/lib/python3.7/site-packages (from germanetpy) (5.4.1)\n",
      "Requirement already satisfied, skipping upgrade: numpy>=1.18.1 in /usr/local/anaconda3/lib/python3.7/site-packages (from germanetpy) (1.18.3)\n",
      "Requirement already satisfied, skipping upgrade: python-Levenshtein==0.12.0 in /usr/local/anaconda3/lib/python3.7/site-packages (from germanetpy) (0.12.0)\n",
      "Requirement already satisfied, skipping upgrade: py>=1.5.0 in /usr/local/anaconda3/lib/python3.7/site-packages (from pytest>=5.3.2->germanetpy) (1.8.0)\n",
      "Requirement already satisfied, skipping upgrade: attrs>=17.4.0 in /usr/local/anaconda3/lib/python3.7/site-packages (from pytest>=5.3.2->germanetpy) (19.2.0)\n",
      "Requirement already satisfied, skipping upgrade: more-itertools>=4.0.0 in /usr/local/anaconda3/lib/python3.7/site-packages (from pytest>=5.3.2->germanetpy) (7.2.0)\n",
      "Requirement already satisfied, skipping upgrade: packaging in /usr/local/anaconda3/lib/python3.7/site-packages (from pytest>=5.3.2->germanetpy) (19.2)\n",
      "Requirement already satisfied, skipping upgrade: importlib-metadata>=0.12; python_version < \"3.8\" in /usr/local/anaconda3/lib/python3.7/site-packages (from pytest>=5.3.2->germanetpy) (0.23)\n",
      "Requirement already satisfied, skipping upgrade: pluggy<1.0,>=0.12 in /usr/local/anaconda3/lib/python3.7/site-packages (from pytest>=5.3.2->germanetpy) (0.13.0)\n",
      "Requirement already satisfied, skipping upgrade: wcwidth in /usr/local/anaconda3/lib/python3.7/site-packages (from pytest>=5.3.2->germanetpy) (0.1.7)\n",
      "Requirement already satisfied, skipping upgrade: setuptools in /usr/local/anaconda3/lib/python3.7/site-packages (from python-Levenshtein==0.12.0->germanetpy) (41.4.0)\n",
      "Requirement already satisfied, skipping upgrade: six in /usr/local/anaconda3/lib/python3.7/site-packages (from packaging->pytest>=5.3.2->germanetpy) (1.12.0)\n",
      "Requirement already satisfied, skipping upgrade: pyparsing>=2.0.2 in /usr/local/anaconda3/lib/python3.7/site-packages (from packaging->pytest>=5.3.2->germanetpy) (2.4.2)\n",
      "Requirement already satisfied, skipping upgrade: zipp>=0.5 in /usr/local/anaconda3/lib/python3.7/site-packages (from importlib-metadata>=0.12; python_version < \"3.8\"->pytest>=5.3.2->germanetpy) (0.6.0)\n",
      "Installing collected packages: germanetpy\n",
      "  Found existing installation: germanetpy 0.2.0\n",
      "    Uninstalling germanetpy-0.2.0:\n",
      "      Successfully uninstalled germanetpy-0.2.0\n",
      "Successfully installed germanetpy-0.2.1\n"
     ]
    }
   ],
   "source": [
    "import sys\n",
    "!{sys.executable} -m pip install -U germanetpy"
   ]
  },
  {
   "cell_type": "markdown",
   "metadata": {
    "pycharm": {}
   },
   "source": [
    "Whenever you want to use the API, the first thing you do is to create a `Germanet` object, which loads the data and provides access to it. The data (all XML files) have to be stored in one directory, whose path has to be specified as the first argument when you construct the GermaNet object. \n",
    "\n",
    "If you want to run this code, put your XML files in a \"germanet_data\" directory in your home directory or change the path to the location on your computer. The API also provides methods to compute semantic similarity / relatedness between words (Synsets). To be able to use all of them you have to provide frequency lists for each word category. These lists can be downloaded from: <!-- where? -->"
   ]
  },
  {
   "cell_type": "code",
   "execution_count": 6,
   "metadata": {
    "pycharm": {
     "is_executing": false
    }
   },
   "outputs": [
    {
     "name": "stderr",
     "output_type": "stream",
     "text": [
      "Load GermaNet data...: 100%|█████████▉| 99.99999999999996/100 [00:07<00:00, 13.21it/s] \n",
      "Load Wiktionary data...: 100%|██████████| 100.0/100 [00:00<00:00, 269.70it/s]             \n",
      "Load Ili records...: 100%|██████████| 100.0/100 [00:00<00:00, 294.76it/s]\n"
     ]
    }
   ],
   "source": [
    "from pathlib import Path\n",
    "from germanetpy.germanet import Germanet\n",
    "\n",
    "data_path = str(Path.home()) + \"/germanet/GN_V150/GN_V150_XML\"\n",
    "frequencylist_nouns = str(Path.home()) + \"/germanet/GN_V150/FreqLists/noun_freqs_decow14_16.txt\"\n",
    "germanet = Germanet(data_path)"
   ]
  },
  {
   "cell_type": "markdown",
   "metadata": {
    "pycharm": {}
   },
   "source": [
    "The data has been loaded and we can now use the API to extract specific information from the data."
   ]
  },
  {
   "cell_type": "markdown",
   "metadata": {
    "pycharm": {
     "metadata": false,
     "name": "#%% md\n"
    }
   },
   "source": [
    "## How to inspect synset information for a single word input\n",
    "\n",
    "Let's consider the input word *Fußball* 'football'. The following shows how to extract all synsets given an input word. Many words are ambiguous; *Fußball* belongs to two synsets. "
   ]
  },
  {
   "cell_type": "code",
   "execution_count": 7,
   "metadata": {
    "pycharm": {
     "is_executing": false,
     "metadata": false,
     "name": "#%% \n"
    }
   },
   "outputs": [
    {
     "data": {
      "text/plain": [
       "2"
      ]
     },
     "execution_count": 7,
     "metadata": {},
     "output_type": "execute_result"
    }
   ],
   "source": [
    "fussball_synsets = germanet.get_synsets_by_orthform(\"Fußball\")\n",
    "# the length of the retrieved list is equal to the number of possible senses for a word, in this case 2\n",
    "len(fussball_synsets)"
   ]
  },
  {
   "cell_type": "markdown",
   "metadata": {},
   "source": [
    "The string representations include the lexical units, which can be helpful when you want to select\n",
    "a specific meaning for a given word."
   ]
  },
  {
   "cell_type": "code",
   "execution_count": 8,
   "metadata": {},
   "outputs": [
    {
     "name": "stdout",
     "output_type": "stream",
     "text": [
      "Synset(id=s7944, lexunits=Fußball)\n",
      "Synset(id=s21624, lexunits=Fußballspiel, Fußball, Fußballsport)\n"
     ]
    }
   ],
   "source": [
    "for synset in fussball_synsets:\n",
    "    print(synset)"
   ]
  },
  {
   "cell_type": "markdown",
   "metadata": {},
   "source": [
    "In this case, let's say we are interested in the sense of *Fußball* which is synonymous with *Fußballspiel* &mdash; that is, the game rather than the ball."
   ]
  },
  {
   "cell_type": "code",
   "execution_count": 9,
   "metadata": {},
   "outputs": [],
   "source": [
    "fussball_synset = germanet.get_synset_by_id('s21624')"
   ]
  },
  {
   "cell_type": "markdown",
   "metadata": {
    "pycharm": {
     "metadata": false,
     "name": "#%% md\n"
    }
   },
   "source": [
    "Every synset has a number of properties that can be extracted. Each synset has a unique id, which is the character\n",
    "'s' followed by a number."
   ]
  },
  {
   "cell_type": "code",
   "execution_count": 10,
   "metadata": {
    "pycharm": {
     "is_executing": false,
     "metadata": false,
     "name": "#%%\n"
    }
   },
   "outputs": [
    {
     "data": {
      "text/plain": [
       "'s21624'"
      ]
     },
     "execution_count": 10,
     "metadata": {},
     "output_type": "execute_result"
    }
   ],
   "source": [
    "fussball_synset.id"
   ]
  },
  {
   "cell_type": "markdown",
   "metadata": {},
   "source": [
    "A synset can have one of three possible word categories (verb, noun, adjective). "
   ]
  },
  {
   "cell_type": "code",
   "execution_count": 11,
   "metadata": {},
   "outputs": [
    {
     "data": {
      "text/plain": [
       "<WordCategory.nomen: 2>"
      ]
     },
     "execution_count": 11,
     "metadata": {},
     "output_type": "execute_result"
    }
   ],
   "source": [
    "fussball_synset.word_category"
   ]
  },
  {
   "cell_type": "markdown",
   "metadata": {},
   "source": [
    "For each of the word categories the semantic space is divided into a number of semantic fields. (e.g *Besitz*,\n",
    "*Kommunikation*, *Geschehen*...), called `word_class`. \n"
   ]
  },
  {
   "cell_type": "code",
   "execution_count": 12,
   "metadata": {},
   "outputs": [
    {
     "data": {
      "text/plain": [
       "<WordClass.Geschehen: 21>"
      ]
     },
     "execution_count": 12,
     "metadata": {},
     "output_type": "execute_result"
    }
   ],
   "source": [
    "fussball_synset.word_class"
   ]
  },
  {
   "cell_type": "markdown",
   "metadata": {
    "pycharm": {
     "metadata": false,
     "name": "#%% md\n"
    }
   },
   "source": [
    "Synsets are related to other synsets via conceptual relations. The most important relation is the hypernymy\n",
    "/ hyponymy relation. Direct hypernyms of a synset (one level above) and hyponyms (one level below) can be accessed through separate fields:"
   ]
  },
  {
   "cell_type": "code",
   "execution_count": 13,
   "metadata": {
    "pycharm": {
     "is_executing": false,
     "metadata": false,
     "name": "#%%\n"
    }
   },
   "outputs": [
    {
     "data": {
      "text/plain": [
       "{Synset(id=s21606, lexunits=Ballspiel, Ballsport, Ballsportart)}"
      ]
     },
     "execution_count": 13,
     "metadata": {},
     "output_type": "execute_result"
    }
   ],
   "source": [
    "fussball_synset.direct_hypernyms"
   ]
  },
  {
   "cell_type": "code",
   "execution_count": 14,
   "metadata": {},
   "outputs": [
    {
     "data": {
      "text/plain": [
       "{Synset(id=s104374, lexunits=Spitzenfußball),\n",
       " Synset(id=s124051, lexunits=Freizeitfußball),\n",
       " Synset(id=s133731, lexunits=Weltfußball),\n",
       " Synset(id=s133871, lexunits=Mädchenfußball),\n",
       " Synset(id=s137475, lexunits=Klubfußball),\n",
       " Synset(id=s137940, lexunits=Berufsfußball),\n",
       " Synset(id=s139802, lexunits=Torwandschießen),\n",
       " Synset(id=s145820, lexunits=Kombinationsfußball),\n",
       " Synset(id=s146603, lexunits=Straßenfußball),\n",
       " Synset(id=s21625, lexunits=Profifußball),\n",
       " Synset(id=s21626, lexunits=Frauenfußball, Damenfußball),\n",
       " Synset(id=s62081, lexunits=Vereinsfußball),\n",
       " Synset(id=s69685, lexunits=Amateurfußball),\n",
       " Synset(id=s71210, lexunits=Jugendfußball),\n",
       " Synset(id=s79925, lexunits=Hallenfußball),\n",
       " Synset(id=s84590, lexunits=Männerfußball)}"
      ]
     },
     "execution_count": 14,
     "metadata": {},
     "output_type": "execute_result"
    }
   ],
   "source": [
    "fussball_synset.direct_hyponyms"
   ]
  },
  {
   "cell_type": "markdown",
   "metadata": {},
   "source": [
    "All conceptually related synsets are stored in the `relations` field:\n"
   ]
  },
  {
   "cell_type": "code",
   "execution_count": 15,
   "metadata": {},
   "outputs": [
    {
     "name": "stdout",
     "output_type": "stream",
     "text": [
      "\n",
      "Relation: ConRel.has_hypernym\n",
      "{Synset(id=s21606, lexunits=Ballspiel, Ballsport, Ballsportart)}\n",
      "\n",
      "Relation: ConRel.has_hyponym\n",
      "{Synset(id=s69685, lexunits=Amateurfußball), Synset(id=s104374, lexunits=Spitzenfußball), Synset(id=s137475, lexunits=Klubfußball), Synset(id=s133871, lexunits=Mädchenfußball), Synset(id=s79925, lexunits=Hallenfußball), Synset(id=s145820, lexunits=Kombinationsfußball), Synset(id=s21626, lexunits=Frauenfußball, Damenfußball), Synset(id=s133731, lexunits=Weltfußball), Synset(id=s71210, lexunits=Jugendfußball), Synset(id=s21625, lexunits=Profifußball), Synset(id=s137940, lexunits=Berufsfußball), Synset(id=s146603, lexunits=Straßenfußball), Synset(id=s62081, lexunits=Vereinsfußball), Synset(id=s124051, lexunits=Freizeitfußball), Synset(id=s84590, lexunits=Männerfußball), Synset(id=s139802, lexunits=Torwandschießen)}\n",
      "\n",
      "Relation: ConRel.is_related_to\n",
      "{Synset(id=s20943, lexunits=Handspiel), Synset(id=s15474, lexunits=Ablöse), Synset(id=s18513, lexunits=Länderspieleinsatz), Synset(id=s17566, lexunits=Abseits, Abseitsposition, Abseitsstellung), Synset(id=s75887, lexunits=Schwalbe), Synset(id=s100331, lexunits=Fußballpokal), Synset(id=s10313, lexunits=Tor)}\n",
      "\n",
      "Relation: ConRel.has_component_meronym\n",
      "{Synset(id=s17549, lexunits=Anstoß, Kick-off), Synset(id=s17560, lexunits=Elfmeter, Elfer, Elfmeterschießen), Synset(id=s17565, lexunits=Freistoß)}\n"
     ]
    }
   ],
   "source": [
    "for relation, synsets in fussball_synset.relations.items():\n",
    "    print(\"\\nRelation: %s\" % relation)\n",
    "    print(synsets)"
   ]
  },
  {
   "cell_type": "markdown",
   "metadata": {
    "pycharm": {
     "metadata": false,
     "name": "#%% md\n"
    }
   },
   "source": [
    "We can see that *Fußball* has exactly one hypernym and several hyponyms. It is also possible to list all <!-- transitive? --> hypernyms\n",
    "from *Fußball* to the top node (root node)."
   ]
  },
  {
   "cell_type": "code",
   "execution_count": 16,
   "metadata": {
    "pycharm": {
     "is_executing": false,
     "metadata": false,
     "name": "#%%\n"
    }
   },
   "outputs": [
    {
     "data": {
      "text/plain": [
       "{Synset(id=s13222, lexunits=Zustand),\n",
       " Synset(id=s16437, lexunits=Situation),\n",
       " Synset(id=s16438, lexunits=Ereignis),\n",
       " Synset(id=s16557, lexunits=Geschehen, Geschehnis),\n",
       " Synset(id=s17614, lexunits=Veranstaltung),\n",
       " Synset(id=s18227, lexunits=Sportveranstaltung, Sportereignis),\n",
       " Synset(id=s18275, lexunits=Sportwettkampf),\n",
       " Synset(id=s18348, lexunits=Spiel, Match, Partie, Sportspiel),\n",
       " Synset(id=s18413, lexunits=Handlung, Tat, Aktivität, Tätigkeit),\n",
       " Synset(id=s20870, lexunits=Auseinandersetzung, Konflikt),\n",
       " Synset(id=s21440, lexunits=Sport, Sportart, Disziplin, Sportdisziplin),\n",
       " Synset(id=s21606, lexunits=Ballspiel, Ballsport, Ballsportart),\n",
       " Synset(id=s46926, lexunits=Beziehung, Verhältnis, Relation),\n",
       " Synset(id=s47458, lexunits=qualitative Beziehung),\n",
       " Synset(id=s51001, lexunits=GNROOT),\n",
       " Synset(id=s73180, lexunits=Kampf, Wettkampf)}"
      ]
     },
     "execution_count": 16,
     "metadata": {},
     "output_type": "execute_result"
    }
   ],
   "source": [
    "fussball_synset.all_hypernyms()"
   ]
  },
  {
   "cell_type": "markdown",
   "metadata": {},
   "source": [
    "The level where the *Fußball* synset is attached to the Graph is called its depth. <!-- maybe explain here why the method is called min_depth, namely, a synset can have multiple depths because it can have multiple hypernyms? -->\n"
   ]
  },
  {
   "cell_type": "code",
   "execution_count": 17,
   "metadata": {},
   "outputs": [
    {
     "data": {
      "text/plain": [
       "8"
      ]
     },
     "execution_count": 17,
     "metadata": {},
     "output_type": "execute_result"
    }
   ],
   "source": [
    "fussball_synset.min_depth()"
   ]
  },
  {
   "cell_type": "markdown",
   "metadata": {},
   "source": [
    "We can also check whether *Fußball* is the root or a leaf of the GermaNet graph (although of course\n",
    "we already know that this is not case, as it has both hypernyms and hyponyms)."
   ]
  },
  {
   "cell_type": "code",
   "execution_count": 18,
   "metadata": {},
   "outputs": [
    {
     "data": {
      "text/plain": [
       "False"
      ]
     },
     "execution_count": 18,
     "metadata": {},
     "output_type": "execute_result"
    }
   ],
   "source": [
    "fussball_synset.is_root()"
   ]
  },
  {
   "cell_type": "code",
   "execution_count": 19,
   "metadata": {},
   "outputs": [
    {
     "data": {
      "text/plain": [
       "False"
      ]
     },
     "execution_count": 19,
     "metadata": {},
     "output_type": "execute_result"
    }
   ],
   "source": [
    "fussball_synset.is_leaf()"
   ]
  },
  {
   "cell_type": "markdown",
   "metadata": {
    "pycharm": {}
   },
   "source": [
    "## Use the semantic utils to measure semantic similarity / relatedness\n",
    "\n",
    "You can also use the API to compare a synset with another synset. These methods work only for two synsets that have the same word category, for example for two nouns. There are two different types of similarity measures:\n",
    "- path-based measures\n",
    "- information-content-based measures\n",
    "\n",
    "Path-based measures compute the semantic relatedness between two concepts based on the shortest path between two synsets in the hypernym relation. The shortest path length is the minimal number of nodes forming a path between the two synsets in the relation. Different measures weigh or normalize the path-length in different ways."
   ]
  },
  {
   "cell_type": "markdown",
   "metadata": {
    "pycharm": {
     "metadata": false,
     "name": "#%% md\n"
    }
   },
   "source": [
    "First we will look at the simple path distance between two synsets.\n",
    "\n",
    "Let's say you would like to know how *Fußball* and *Tennis* are related within \n",
    "GermaNet. You first need to extract the synset for *Tennis*. Then you can check whether *Tennis* and *Fußball* share any hypernyms."
   ]
  },
  {
   "cell_type": "code",
   "execution_count": 20,
   "metadata": {
    "pycharm": {
     "is_executing": false,
     "metadata": false,
     "name": "#%%\n"
    }
   },
   "outputs": [
    {
     "data": {
      "text/plain": [
       "{Synset(id=s13222, lexunits=Zustand),\n",
       " Synset(id=s16437, lexunits=Situation),\n",
       " Synset(id=s16438, lexunits=Ereignis),\n",
       " Synset(id=s16557, lexunits=Geschehen, Geschehnis),\n",
       " Synset(id=s17614, lexunits=Veranstaltung),\n",
       " Synset(id=s18227, lexunits=Sportveranstaltung, Sportereignis),\n",
       " Synset(id=s18275, lexunits=Sportwettkampf),\n",
       " Synset(id=s18348, lexunits=Spiel, Match, Partie, Sportspiel),\n",
       " Synset(id=s18413, lexunits=Handlung, Tat, Aktivität, Tätigkeit),\n",
       " Synset(id=s20870, lexunits=Auseinandersetzung, Konflikt),\n",
       " Synset(id=s21440, lexunits=Sport, Sportart, Disziplin, Sportdisziplin),\n",
       " Synset(id=s21606, lexunits=Ballspiel, Ballsport, Ballsportart),\n",
       " Synset(id=s46926, lexunits=Beziehung, Verhältnis, Relation),\n",
       " Synset(id=s47458, lexunits=qualitative Beziehung),\n",
       " Synset(id=s51001, lexunits=GNROOT),\n",
       " Synset(id=s73180, lexunits=Kampf, Wettkampf)}"
      ]
     },
     "execution_count": 20,
     "metadata": {},
     "output_type": "execute_result"
    }
   ],
   "source": [
    "tennis_synsets = germanet.get_synsets_by_orthform(\"Tennis\")\n",
    "tennis_synset = tennis_synsets[0]\n",
    "fussball_synset.common_hypernyms(tennis_synset)"
   ]
  },
  {
   "cell_type": "markdown",
   "metadata": {},
   "source": [
    "You can then extract the shortest path you can walk from *Fußball* to end up at *Tennis*. "
   ]
  },
  {
   "cell_type": "code",
   "execution_count": 21,
   "metadata": {},
   "outputs": [
    {
     "data": {
      "text/plain": [
       "[[Synset(id=s21624, lexunits=Fußballspiel, Fußball, Fußballsport),\n",
       "  Synset(id=s21606, lexunits=Ballspiel, Ballsport, Ballsportart),\n",
       "  Synset(id=s21613, lexunits=Tennis, Tennisspiel, Tennissport)]]"
      ]
     },
     "execution_count": 21,
     "metadata": {},
     "output_type": "execute_result"
    }
   ],
   "source": [
    "fussball_synset.shortest_path(tennis_synset)"
   ]
  },
  {
   "cell_type": "markdown",
   "metadata": {},
   "source": [
    "You can also extract the distance between *Fußball* and *Tennis* (in this case the path length). Synsets that are more similar will have a shorter distance than unrelated synsets."
   ]
  },
  {
   "cell_type": "code",
   "execution_count": 22,
   "metadata": {},
   "outputs": [
    {
     "data": {
      "text/plain": [
       "2"
      ]
     },
     "execution_count": 22,
     "metadata": {},
     "output_type": "execute_result"
    }
   ],
   "source": [
    "fussball_synset.shortest_path_distance(tennis_synset)"
   ]
  },
  {
   "cell_type": "markdown",
   "metadata": {
    "pycharm": {
     "metadata": false
    }
   },
   "source": [
    "### Example for path-based measures\n",
    "\n",
    "The following example shows how to use path-based semantic relatedness measures to check whether *Trompete* (trumpet) is more closely related to *Posaune* (trombone) than to *Flöte* (flute) and how to disambiguate *Flügel* (wing, blade, grand) in the context of *Klavier* (piano). \n",
    "\n",
    "To use the path-based semantic relatedness measures you have to initialize a `PathBasedRelatedness` object. This object takes the longest possible shortest distance and a Synset pair that is maximally apart as argument. If not given, this synset pair will be computed on the fly, but the computation might take some time, especially for nouns.\n",
    "\n",
    "As mentioned above, these measures only work for synsets that belong to the same word category, which has to be specified in the constructor."
   ]
  },
  {
   "cell_type": "code",
   "execution_count": 23,
   "metadata": {
    "pycharm": {
     "is_executing": false,
     "metadata": false,
     "name": "#%%\n"
    }
   },
   "outputs": [],
   "source": [
    "from germanetpy.path_based_relatedness_measures import PathBasedRelatedness\n",
    "from germanetpy.synset import WordCategory\n",
    "\n",
    "# First, construct a path-based similarity object. \n",
    "# The johannis_wurm and leber_trans synsets are maximally far apart among nouns:\n",
    "johannis_wurm = germanet.get_synset_by_id(\"s49774\")\n",
    "leber_trans = germanet.get_synset_by_id(\"s83979\")\n",
    "relatedness_calculator = PathBasedRelatedness(germanet=germanet, category=WordCategory.nomen, max_len=35,\n",
    "                                              max_depth=20, synset_pair=(johannis_wurm, leber_trans))"
   ]
  },
  {
   "cell_type": "markdown",
   "metadata": {},
   "source": [
    "We can now use the `relatedness_calculator` object to find out whether *Trompete* (trumpet) is more closely related to *Posaune* (trombone) or to *Flöte* (flute):"
   ]
  },
  {
   "cell_type": "code",
   "execution_count": 24,
   "metadata": {},
   "outputs": [
    {
     "data": {
      "text/plain": [
       "True"
      ]
     },
     "execution_count": 24,
     "metadata": {},
     "output_type": "execute_result"
    }
   ],
   "source": [
    "trompete = germanet.get_synsets_by_orthform(\"Trompete\").pop()\n",
    "flöte = germanet.get_synsets_by_orthform(\"Flöte\").pop()\n",
    "posaune = germanet.get_synsets_by_orthform(\"Posaune\").pop()\n",
    "trompete_posaune = relatedness_calculator.simple_path(trompete, posaune)\n",
    "trompete_flöte = relatedness_calculator.simple_path(trompete, flöte)\n",
    "\n",
    "trompete_posaune > trompete_flöte "
   ]
  },
  {
   "cell_type": "markdown",
   "metadata": {},
   "source": [
    "Path based relatedness measures can also be used to disambiguate word senses. This example shows how to find the sense of *Flügel* (wing, blade, grand) which is most similar to *Klavier* (piano) according to three different path-based measures:. "
   ]
  },
  {
   "cell_type": "code",
   "execution_count": 25,
   "metadata": {},
   "outputs": [
    {
     "data": {
      "text/plain": [
       "Synset(id=s11625, lexunits=Flügel)"
      ]
     },
     "execution_count": 25,
     "metadata": {},
     "output_type": "execute_result"
    }
   ],
   "source": [
    "Klavier = germanet.get_synsets_by_orthform(\"Klavier\").pop()\n",
    "Flügel_synsets = germanet.get_synsets_by_orthform(\"Flügel\")\n",
    "\n",
    "results = []\n",
    "highest_sim_simple = 0.0\n",
    "highest_sim_leacock = 0.0\n",
    "highest_sim_wu = 0.0\n",
    "most_similar_synset = None\n",
    "\n",
    "for synset in Flügel_synsets:\n",
    "    if synset.word_category == WordCategory.nomen:\n",
    "        sim_simple = relatedness_calculator.simple_path(synset, Klavier, normalize=True)\n",
    "        sim_leacock = relatedness_calculator.leacock_chodorow(synset, Klavier, normalize=True)\n",
    "        sim_wu = relatedness_calculator.wu_and_palmer(synset, Klavier, normalize=True)\n",
    "        results.append([\n",
    "            synset.id, \n",
    "            \", \".join(lu.orthform for lu in synset.lexunits),\n",
    "            sim_simple, \n",
    "            sim_leacock, \n",
    "            sim_wu\n",
    "        ])\n",
    "        \n",
    "        if sim_simple > highest_sim_simple and sim_leacock > highest_sim_leacock and sim_wu > highest_sim_wu :\n",
    "            highest_sim_simple = sim_simple\n",
    "            highest_sim_leacock = sim_leacock\n",
    "            highest_sim_wu = sim_wu\n",
    "            most_similar_synset = synset\n",
    "\n",
    "most_similar_synset"
   ]
  },
  {
   "cell_type": "markdown",
   "metadata": {},
   "source": [
    "We can verify that this is the most similar synset by looking at all the similarity results in a table:"
   ]
  },
  {
   "cell_type": "code",
   "execution_count": 26,
   "metadata": {},
   "outputs": [
    {
     "data": {
      "text/markdown": [
       "| Synset ID | Lex Units | Simple Path | Leacock and Chodorow | Wu and Palmer |\n",
       "|-----------|-----------|-------------|----------------------|---------------|\n",
       "|s26446|Flügel, Schwinge|0.68571|0.30657|0.26667|\n",
       "|s73683|Flügel|0.68571|0.30657|0.35294|\n",
       "|s11625|Flügel|0.94286|0.69343|0.88889|\n",
       "|s12102|Flügel, Rotorblatt|0.8|0.41972|0.53333|\n",
       "|s9697|Flügel, Seitenflügel|0.74286|0.35745|0.4|\n",
       "|s73727|Flügel|0.77143|0.38685|0.42857|\n",
       "|s23151|Parteiflügel, Flügel|0.65714|0.28424|0.33333|\n"
      ],
      "text/plain": [
       "<IPython.core.display.Markdown object>"
      ]
     },
     "execution_count": 26,
     "metadata": {},
     "output_type": "execute_result"
    }
   ],
   "source": [
    "from IPython.display import Markdown as md\n",
    "\n",
    "results_header = (\"| Synset ID | Lex Units | Simple Path | Leacock and Chodorow | Wu and Palmer |\\n\" +\n",
    "                  \"|-----------|-----------|-------------|----------------------|---------------|\\n\")\n",
    "\n",
    "results_table = results_header + \"\".join([\"|{}|{}|{}|{}|{}|\\n\".format(*result) for result in results])\n",
    "md(results_table)"
   ]
  },
  {
   "cell_type": "markdown",
   "metadata": {
    "pycharm": {}
   },
   "source": [
    "### Example for IC-based measures\n",
    "\n",
    "One problem with path-based measures is that paths of the same length in the hypernym relation can correspond to very different intuitive semantic \"distances\".\n",
    "Measures based on *information content* (IC) seek to solve this problem by augmenting information about the structural distances in the hypernym relation with information about word frequencies. \n",
    "The word frequencies are used to compute the information content, which grades concepts from more specific to more general. If a very specific synset is compared to a very general one, the relatedness will be low. The relatedness of two synsets is measured based on the information content of their least common subsumer (the lowest synset in the hierarchy that is hypernym to both synsets).\n",
    "\n",
    "To use these measures, you have to create an `ICBasedSimilarity` object that takes frequency lists as an additional argument. These lists contain the raw frequencies of the nouns, adjectives and verbs that are in Germanet, based on a very large corpus. You can use either the provided frequency lists or your own lists."
   ]
  },
  {
   "cell_type": "code",
   "execution_count": 27,
   "metadata": {},
   "outputs": [],
   "source": [
    "from germanetpy.icbased_similarity import ICBasedSimilarity\n",
    "\n",
    "relatedness_nouns = ICBasedSimilarity(germanet=germanet, \n",
    "                                      wordcategory=WordCategory.nomen,\n",
    "                                      path=frequencylist_nouns)"
   ]
  },
  {
   "cell_type": "markdown",
   "metadata": {},
   "source": [
    "The following code snippet shows the advantage of the IC-based measures. While path-based measures would classify the words *Pflanze* 'plant' and *Tier* 'animal' as being almost as similar as the words *Roteiche* 'red oak' and *Steineiche* 'holm oak', the IC-based measures distinguish whether two synsets are very general or more specific and consequently assign a higher similarity score to the second pair of words."
   ]
  },
  {
   "cell_type": "code",
   "execution_count": 28,
   "metadata": {},
   "outputs": [],
   "source": [
    "# first word pair:\n",
    "pflanze = germanet.get_synset_by_id(\"s44960\")\n",
    "tier = germanet.get_synset_by_id(\"s48805\")\n",
    "\n",
    "# second word pair:\n",
    "roteiche = germanet.get_synset_by_id(\"s46054\")\n",
    "steineiche = germanet.get_synset_by_id(\"s46056\")"
   ]
  },
  {
   "cell_type": "markdown",
   "metadata": {},
   "source": [
    "Notice that a path-based measure between these word pairs yields almost the same results:"
   ]
  },
  {
   "cell_type": "code",
   "execution_count": 29,
   "metadata": {},
   "outputs": [
    {
     "data": {
      "text/plain": [
       "0.61315"
      ]
     },
     "execution_count": 29,
     "metadata": {},
     "output_type": "execute_result"
    }
   ],
   "source": [
    "relatedness_calculator.leacock_chodorow(pflanze, tier, normalize=True)"
   ]
  },
  {
   "cell_type": "code",
   "execution_count": 30,
   "metadata": {},
   "outputs": [
    {
     "data": {
      "text/plain": [
       "0.69343"
      ]
     },
     "execution_count": 30,
     "metadata": {},
     "output_type": "execute_result"
    }
   ],
   "source": [
    "relatedness_calculator.leacock_chodorow(roteiche, steineiche, normalize=True)"
   ]
  },
  {
   "cell_type": "markdown",
   "metadata": {},
   "source": [
    "But an IC-based measure clearly distinguishes the two pairs:"
   ]
  },
  {
   "cell_type": "code",
   "execution_count": 31,
   "metadata": {},
   "outputs": [
    {
     "data": {
      "text/plain": [
       "0.10985"
      ]
     },
     "execution_count": 31,
     "metadata": {},
     "output_type": "execute_result"
    }
   ],
   "source": [
    "relatedness_nouns.resnik(pflanze, tier, normalize=True)"
   ]
  },
  {
   "cell_type": "code",
   "execution_count": 32,
   "metadata": {},
   "outputs": [
    {
     "data": {
      "text/plain": [
       "0.51592"
      ]
     },
     "execution_count": 32,
     "metadata": {},
     "output_type": "execute_result"
    }
   ],
   "source": [
    "relatedness_nouns.resnik(roteiche, steineiche, normalize=True)"
   ]
  },
  {
   "cell_type": "markdown",
   "metadata": {
    "pycharm": {
     "metadata": false
    }
   },
   "source": [
    "For a more convenient search through the ontology and the semantic relatedness computation, you can use the GermaNet web application \"Rover\":\n",
    "https://weblicht.sfs.uni-tuebingen.de/rover/"
   ]
  },
  {
   "cell_type": "markdown",
   "metadata": {
    "pycharm": {
     "metadata": false,
     "name": "#%% md\n"
    }
   },
   "source": [
    "## Inspect Lexical Units\n",
    "Every synset contains one ore several Lexical Units. The list of Lexical Units (lexunit) can be accessed for any synset. Let's inspect the lexical units for *Fußball* 'football':\n",
    "We have the lexunit *Fußballspiel* 'football match', the lexunit *Fußball* 'football' and the lexunit *Fußballsport* 'soccer'."
   ]
  },
  {
   "cell_type": "code",
   "execution_count": 33,
   "metadata": {
    "pycharm": {
     "is_executing": false,
     "metadata": false,
     "name": "#%%\n"
    }
   },
   "outputs": [
    {
     "data": {
      "text/plain": [
       "[Lexunit(id=l29776, orthform=Fußballspiel, synset_id=s21624),\n",
       " Lexunit(id=l29777, orthform=Fußball, synset_id=s21624),\n",
       " Lexunit(id=l29778, orthform=Fußballsport, synset_id=s21624)]"
      ]
     },
     "execution_count": 33,
     "metadata": {},
     "output_type": "execute_result"
    }
   ],
   "source": [
    "fussball_synset.lexunits"
   ]
  },
  {
   "cell_type": "markdown",
   "metadata": {
    "pycharm": {
     "metadata": false,
     "name": "#%% md\n"
    }
   },
   "source": [
    "Every lexical unit has a number of orthographical forms. There are four different orthographical forms but not every \n",
    "lexical unit has an entry for all of them:\n",
    "* main orth. form\n",
    "* orth. variation\n",
    "* old orth. form\n",
    "* old orth. variation\n",
    "\n",
    "We can see that the lexunit for *Fußball* only has one orth form, but that one of its related synsets *Fußballklub* 'football club' has the \n",
    "orthographical variation *Fußballkclub*."
   ]
  },
  {
   "cell_type": "code",
   "execution_count": 34,
   "metadata": {
    "pycharm": {
     "is_executing": false,
     "metadata": false,
     "name": "#%%\n"
    }
   },
   "outputs": [
    {
     "data": {
      "text/plain": [
       "{'Fußball'}"
      ]
     },
     "execution_count": 34,
     "metadata": {},
     "output_type": "execute_result"
    }
   ],
   "source": [
    "fussball_unit = germanet.get_lexunit_by_id(\"l29777\")\n",
    "fussball_unit.get_all_orthforms()"
   ]
  },
  {
   "cell_type": "code",
   "execution_count": 35,
   "metadata": {},
   "outputs": [
    {
     "data": {
      "text/plain": [
       "{'Fußballclub', 'Fußballklub'}"
      ]
     },
     "execution_count": 35,
     "metadata": {},
     "output_type": "execute_result"
    }
   ],
   "source": [
    "fussballclub_unit = germanet.get_lexunit_by_id(\"l32423\")\n",
    "fussballclub_unit.get_all_orthforms()"
   ]
  },
  {
   "cell_type": "code",
   "execution_count": 36,
   "metadata": {},
   "outputs": [
    {
     "data": {
      "text/plain": [
       "'Fußballclub'"
      ]
     },
     "execution_count": 36,
     "metadata": {},
     "output_type": "execute_result"
    }
   ],
   "source": [
    "fussballclub_unit.orthvar"
   ]
  },
  {
   "cell_type": "markdown",
   "metadata": {
    "pycharm": {
     "metadata": false,
     "name": "#%% md\n"
    }
   },
   "source": [
    "*Fußball* is a compound noun, which are very frequent in the German language. GermaNet stores information about the \n",
    "compound, for example that *Fuß* 'foot' is the modifier and *ball* 'ball' is the head.\n"
   ]
  },
  {
   "cell_type": "code",
   "execution_count": 37,
   "metadata": {
    "pycharm": {
     "is_executing": false,
     "metadata": false,
     "name": "#%%\n"
    }
   },
   "outputs": [
    {
     "data": {
      "text/plain": [
       "CompoundInfo( modifier = Fuß, head = Ball)"
      ]
     },
     "execution_count": 37,
     "metadata": {},
     "output_type": "execute_result"
    }
   ],
   "source": [
    "fussball_unit.compound_info"
   ]
  },
  {
   "cell_type": "markdown",
   "metadata": {
    "pycharm": {
     "metadata": false,
     "name": "#%% md\n"
    }
   },
   "source": [
    "Lexical units are related to other lexical units by different lexical relations. The most common and most general \n",
    "lexical relation is synonymy (i.e., the relation which groups lexical units into synsets), but there are other lexical relations in GermaNet as well. For example, for some compounds there has been work\n",
    "on annotating the relation between the compound and the modifier. In this example the compound *Fußball* has the manner of functioning *Fuß*. "
   ]
  },
  {
   "cell_type": "code",
   "execution_count": 38,
   "metadata": {},
   "outputs": [
    {
     "data": {
      "text/plain": [
       "defaultdict(set,\n",
       "            {<LexRel.has_synonym: 'has_synonym'>: {Lexunit(id=l29776, orthform=Fußballspiel, synset_id=s21624),\n",
       "              Lexunit(id=l29778, orthform=Fußballsport, synset_id=s21624)},\n",
       "             <LexRel.has_manner_of_functioning: 'has_manner_of_functioning'>: {Lexunit(id=l35740, orthform=Fuß, synset_id=s26149)}})"
      ]
     },
     "execution_count": 38,
     "metadata": {},
     "output_type": "execute_result"
    }
   ],
   "source": [
    "fussball_unit.relations"
   ]
  },
  {
   "cell_type": "markdown",
   "metadata": {},
   "source": [
    "The relations can be unidirectional (e.g., the relation \"has manner of functioning\" goes from *Fußball*\n",
    "to *Fuß*, but not the other way around). The relations can also be bidirectional (e.g., *Fußball* and *Fußballspiel* are synonyms of each other). If you are interested in finding out which unidirectional relations point towards *Fußball*, these can be accessed via \"incoming_relations\":"
   ]
  },
  {
   "cell_type": "code",
   "execution_count": 39,
   "metadata": {
    "pycharm": {
     "is_executing": false,
     "metadata": false,
     "name": "#%%\n"
    }
   },
   "outputs": [
    {
     "data": {
      "text/plain": [
       "defaultdict(set,\n",
       "            {<LexRel.has_pertainym: 'has_pertainym'>: {Lexunit(id=l4226, orthform=fußballerisch, synset_id=s2869)},\n",
       "             <LexRel.has_specialization: 'has_specialization'>: {Lexunit(id=l53360, orthform=Fußballamateur, synset_id=s37146)},\n",
       "             <LexRel.has_active_usage: 'has_active_usage'>: {Lexunit(id=l10294, orthform=Fußballschuh, synset_id=s7143),\n",
       "              Lexunit(id=l13796, orthform=Fußballstadion, synset_id=s9891)},\n",
       "             <LexRel.has_topic: 'has_topic'>: {Lexunit(id=l88379, orthform=Fußballschule, synset_id=s63191)}})"
      ]
     },
     "execution_count": 39,
     "metadata": {},
     "output_type": "execute_result"
    }
   ],
   "source": [
    "fussball_unit.incoming_relations"
   ]
  },
  {
   "cell_type": "markdown",
   "metadata": {
    "pycharm": {
     "metadata": false,
     "name": "#%% md\n"
    }
   },
   "source": [
    "Some lexical units have sense definitions, harvested from the German Wiktionary. These can be accessed with the `wiktionary_paraphrases` field."
   ]
  },
  {
   "cell_type": "code",
   "execution_count": 40,
   "metadata": {
    "pycharm": {
     "is_executing": false,
     "metadata": false,
     "name": "#%%\n"
    }
   },
   "outputs": [
    {
     "data": {
      "text/plain": [
       "[Wiktionary(LexUnit ID=l29777, definition=Sport, Freizeit, kein Plural: eine beliebte Mannschaftssportart, welche mit 22 Spielern und einem Ball gespielt wird)]"
      ]
     },
     "execution_count": 40,
     "metadata": {},
     "output_type": "execute_result"
    }
   ],
   "source": [
    "fussball_unit.wiktionary_paraphrases"
   ]
  },
  {
   "cell_type": "markdown",
   "metadata": {
    "pycharm": {
     "metadata": false,
     "name": "#%% md\n"
    }
   },
   "source": [
    "Some lexical units have also been linked to the English WordNet. The can be accessed with the `ili_records` field. "
   ]
  },
  {
   "cell_type": "code",
   "execution_count": 41,
   "metadata": {
    "pycharm": {
     "is_executing": false,
     "metadata": false,
     "name": "#%%\n"
    }
   },
   "outputs": [
    {
     "data": {
      "text/plain": [
       "[IliRecord(LexUnit ID=l29777, relation=synonym, english_equivalent=association football)]"
      ]
     },
     "execution_count": 41,
     "metadata": {},
     "output_type": "execute_result"
    }
   ],
   "source": [
    "fussball_unit.ili_records"
   ]
  },
  {
   "cell_type": "markdown",
   "metadata": {
    "pycharm": {
     "metadata": false,
     "name": "#%% md\n"
    }
   },
   "source": [
    "Lexical units which are verbs provide information on language use by giving at least one example sentence.\n",
    "They are also annotated with subcategorisation patterns / verb complementations (frames).\n"
   ]
  },
  {
   "cell_type": "code",
   "execution_count": 42,
   "metadata": {
    "pycharm": {
     "is_executing": false,
     "metadata": false,
     "name": "#%%\n"
    }
   },
   "outputs": [
    {
     "data": {
      "text/plain": [
       "Lexunit(id=l80272, orthform=schießen, synset_id=s56962)"
      ]
     },
     "execution_count": 42,
     "metadata": {},
     "output_type": "execute_result"
    }
   ],
   "source": [
    "schiessen = germanet.get_lexunit_by_id(\"l80272\")\n",
    "schiessen"
   ]
  },
  {
   "cell_type": "code",
   "execution_count": 43,
   "metadata": {},
   "outputs": [
    {
     "data": {
      "text/plain": [
       "['Er hatte den Ball ins Tor geschossen.']"
      ]
     },
     "execution_count": 43,
     "metadata": {},
     "output_type": "execute_result"
    }
   ],
   "source": [
    "schiessen.examples"
   ]
  },
  {
   "cell_type": "code",
   "execution_count": 44,
   "metadata": {},
   "outputs": [
    {
     "data": {
      "text/plain": [
       "['NN.AN.BD']"
      ]
     },
     "execution_count": 44,
     "metadata": {},
     "output_type": "execute_result"
    }
   ],
   "source": [
    "schiessen.frames"
   ]
  },
  {
   "cell_type": "markdown",
   "metadata": {},
   "source": [
    "It is possible to extract verbs with specific complements of interest. For example, if you're interested in all verbs that allow accusative complements, you can extract them with specific methods, defined in the `Frames` class. "
   ]
  },
  {
   "cell_type": "code",
   "execution_count": 45,
   "metadata": {},
   "outputs": [],
   "source": [
    "from germanetpy.frames import Frames\n",
    "\n",
    "f = Frames(germanet.frames2lexunits)\n",
    "all_verbs_with_accusative_complement = f.extract_accusative_complement()"
   ]
  },
  {
   "cell_type": "code",
   "execution_count": 46,
   "metadata": {},
   "outputs": [
    {
     "data": {
      "text/plain": [
       "11735"
      ]
     },
     "execution_count": 46,
     "metadata": {},
     "output_type": "execute_result"
    }
   ],
   "source": [
    "# How many verbs take accusative complements?\n",
    "len(all_verbs_with_accusative_complement)"
   ]
  },
  {
   "cell_type": "code",
   "execution_count": 47,
   "metadata": {},
   "outputs": [
    {
     "data": {
      "text/plain": [
       "(Lexunit(id=l131160, orthform=herausbringen, synset_id=s97523),\n",
       " Lexunit(id=l112387, orthform=zerdehnen, synset_id=s83331))"
      ]
     },
     "execution_count": 47,
     "metadata": {},
     "output_type": "execute_result"
    }
   ],
   "source": [
    "# What are some examples?\n",
    "(all_verbs_with_accusative_complement.pop(), all_verbs_with_accusative_complement.pop())"
   ]
  },
  {
   "cell_type": "markdown",
   "metadata": {
    "pycharm": {
     "metadata": false,
     "name": "#%% md\n"
    }
   },
   "source": [
    "## How to extract a large number of examples by applying a filter function\n",
    "If you would like to extract several lexical units or synsets from GermaNet that fulfill certain conditions you can create a filter configuration. For example, filter configurations allow you to search for words of specific\n",
    "Word Classes (e.g. you might be interested in extracting all abstract nouns) or to extract all words that \n",
    "contain a specific subword. To perform a search you have to create a filter configuration object. You have to pass a search string as an argument. All other options have defaults but you can override these defaults to refine your search.\n"
   ]
  },
  {
   "cell_type": "markdown",
   "metadata": {},
   "source": [
    "For example, we can search for *schießen* 'shoot' but ignore upper or lowercasing in different orthforms:"
   ]
  },
  {
   "cell_type": "code",
   "execution_count": 48,
   "metadata": {
    "pycharm": {
     "is_executing": false,
     "metadata": false,
     "name": "#%%\n"
    }
   },
   "outputs": [
    {
     "data": {
      "text/plain": [
       "{Synset(id=s123485, lexunits=schießen),\n",
       " Synset(id=s21555, lexunits=Schießen, Schießsport, Sportschießen),\n",
       " Synset(id=s56650, lexunits=schießen),\n",
       " Synset(id=s56664, lexunits=schießen),\n",
       " Synset(id=s56962, lexunits=schießen),\n",
       " Synset(id=s57998, lexunits=stürmen, stürzen, schießen),\n",
       " Synset(id=s59153, lexunits=knipsen, schießen),\n",
       " Synset(id=s60205, lexunits=erlegen, schießen)}"
      ]
     },
     "execution_count": 48,
     "metadata": {},
     "output_type": "execute_result"
    }
   ],
   "source": [
    "from germanetpy.filterconfig import Filterconfig\n",
    "\n",
    "filterconfig = Filterconfig(\"schießen\", ignore_case=True)\n",
    "filterconfig.filter_synsets(germanet)"
   ]
  },
  {
   "cell_type": "markdown",
   "metadata": {},
   "source": [
    "Let's now limit the results to synsets of a specific semantic class:"
   ]
  },
  {
   "cell_type": "code",
   "execution_count": 49,
   "metadata": {},
   "outputs": [
    {
     "data": {
      "text/plain": [
       "[(Synset(id=s56664, lexunits=schießen), <WordClass.Konkurrenz: 33>),\n",
       " (Synset(id=s56650, lexunits=schießen), <WordClass.Konkurrenz: 33>)]"
      ]
     },
     "execution_count": 49,
     "metadata": {},
     "output_type": "execute_result"
    }
   ],
   "source": [
    "from germanetpy.synset import WordClass\n",
    "\n",
    "filterconfig.word_classes = [WordClass.Konkurrenz]\n",
    "filtered_result = filterconfig.filter_synsets(germanet)\n",
    "[(synset, synset.word_class) for synset in filtered_result]"
   ]
  },
  {
   "cell_type": "markdown",
   "metadata": {},
   "source": [
    "If we now filter by word category and use only nouns, our result will be empty because there is no entry for 'schießen' as a noun:"
   ]
  },
  {
   "cell_type": "code",
   "execution_count": 50,
   "metadata": {},
   "outputs": [
    {
     "data": {
      "text/plain": [
       "set()"
      ]
     },
     "execution_count": 50,
     "metadata": {},
     "output_type": "execute_result"
    }
   ],
   "source": [
    "filterconfig.word_categories = [WordCategory.nomen]\n",
    "result = filterconfig.filter_synsets(germanet)\n",
    "result"
   ]
  },
  {
   "cell_type": "markdown",
   "metadata": {
    "pycharm": {
     "metadata": false,
     "name": "#%% md\n"
    }
   },
   "source": [
    "Besides using full words as search strings we can use regular expressions. This can be very useful if you are interested \n",
    "in words with certain character sequences. The next example shows how to extract all words that end with \"kuchen\":"
   ]
  },
  {
   "cell_type": "code",
   "execution_count": 51,
   "metadata": {
    "pycharm": {
     "is_executing": false,
     "metadata": false,
     "name": "#%%\n"
    }
   },
   "outputs": [
    {
     "name": "stdout",
     "output_type": "stream",
     "text": [
      "Found  54 words that end with 'kuchen' in GermaNet \n",
      " An example of such is: Lexunit(id=l57615, orthform=Lebkuchen, synset_id=s39220) \n",
      " Another example is : Lexunit(id=l57639, orthform=Sandkuchen, synset_id=s39239)\n"
     ]
    }
   ],
   "source": [
    "filterconfig = Filterconfig('.*kuchen', regex=True)\n",
    "result = filterconfig.filter_lexunits(germanet)\n",
    "print(\"Found  %d words that end with 'kuchen' in GermaNet \\n An example of such is: %s \\n Another example is : %s\"\n",
    "      % (len(result), result.pop(), result.pop()))"
   ]
  },
  {
   "cell_type": "markdown",
   "metadata": {},
   "source": [
    "This example extracts all nouns that contain whitespace or a hyphen (useful for example to extract multiword expressions):"
   ]
  },
  {
   "cell_type": "code",
   "execution_count": 52,
   "metadata": {},
   "outputs": [
    {
     "name": "stdout",
     "output_type": "stream",
     "text": [
      "\n",
      "Found  5419 multiword expressions with whitespace or hypen in GermaNet \n",
      " An example of such is: Lexunit(id=l100608, orthform=Alb-Donau-Kreis, synset_id=s73656) \n",
      " Another example is: Lexunit(id=l42662, orthform=Tai Lue, synset_id=s31219)\n"
     ]
    }
   ],
   "source": [
    "# extract all nouns that contain whitespace or a hyphen\n",
    "filterconfig = Filterconfig('.+(\\s|-).+', regex=True)\n",
    "filterconfig.word_categories = [WordCategory.nomen]\n",
    "result = filterconfig.filter_lexunits(germanet)\n",
    "print(\"\\nFound  %d multiword expressions with whitespace or hypen in GermaNet \\n An example of such is: %s \\n Another example is: %s\"\n",
    "      % (len(result), result.pop(), result.pop()))"
   ]
  },
  {
   "cell_type": "markdown",
   "metadata": {},
   "source": [
    "And this example extracts verbs that contain 'ff' or 'ss':   "
   ]
  },
  {
   "cell_type": "code",
   "execution_count": 53,
   "metadata": {},
   "outputs": [
    {
     "name": "stdout",
     "output_type": "stream",
     "text": [
      "\n",
      "Found  974 verbs with double s or double f in GermaNet \n",
      " An example of such is: Lexunit(id=l79706, orthform=entwaffnen, synset_id=s56556) \n",
      " Another example is : Lexunit(id=l85783, orthform=prassen, synset_id=s61062)\n"
     ]
    }
   ],
   "source": [
    "# extract all verbs that contain exactly two 'ss' or two 'ff'\n",
    "filterconfig = Filterconfig('.+(f{2,}|s{2,}).+', regex=True)\n",
    "filterconfig.word_categories = [WordCategory.verben]\n",
    "result = filterconfig.filter_lexunits(germanet)\n",
    "print(\"\\nFound  %d verbs with double s or double f in GermaNet \\n An example of such is: %s \\n Another example is : %s\"\n",
    "      % (len(result), result.pop(), result.pop()))"
   ]
  },
  {
   "cell_type": "code",
   "execution_count": null,
   "metadata": {},
   "outputs": [],
   "source": []
  },
  {
   "cell_type": "code",
   "execution_count": null,
   "metadata": {},
   "outputs": [],
   "source": []
  }
 ],
 "metadata": {
  "kernelspec": {
   "display_name": "Python 3",
   "language": "python",
   "name": "python3"
  },
  "language_info": {
   "codemirror_mode": {
    "name": "ipython",
    "version": 3
   },
   "file_extension": ".py",
   "mimetype": "text/x-python",
   "name": "python",
   "nbconvert_exporter": "python",
   "pygments_lexer": "ipython3",
   "version": "3.7.4"
  },
  "stem_cell": {
   "cell_type": "raw",
   "metadata": {
    "pycharm": {
     "metadata": false
    }
   },
   "source": ""
  }
 },
 "nbformat": 4,
 "nbformat_minor": 1
}
